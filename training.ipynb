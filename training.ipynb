{
 "cells": [
  {
   "cell_type": "code",
   "execution_count": 1,
   "metadata": {},
   "outputs": [],
   "source": [
    "import pyspark\n",
    "from pyspark.ml import Pipeline\n",
    "from pyspark.sql import SparkSession\n",
    "from pyspark.ml.classification import RandomForestClassifier\n",
    "from pyspark.ml.feature import IndexToString, StringIndexer, VectorIndexer\n",
    "from pyspark.ml.evaluation import MulticlassClassificationEvaluator\n",
    "from pyspark.ml.tuning import ParamGridBuilder, CrossValidator\n",
    "\n",
    "import os"
   ]
  },
  {
   "cell_type": "code",
   "execution_count": 2,
   "metadata": {},
   "outputs": [],
   "source": [
    "# Create Spark Session\n",
    "spark = SparkSession.builder.appName(\"Training\").getOrCreate()\n",
    "\n",
    "# Define data path\n",
    "BASE_PATH = os.getcwd()\n",
    "DATA_PATH = os.path.join(BASE_PATH, 'data')\n",
    "TRAINING_DATASET_PATH = os.path.join(DATA_PATH, 'training')\n",
    "MODEL_PATH = os.path.join(BASE_PATH, 'model')"
   ]
  },
  {
   "cell_type": "code",
   "execution_count": 3,
   "metadata": {},
   "outputs": [],
   "source": [
    "def get_pipeline(data: pyspark.sql.DataFrame):\n",
    "    # Creates an ML Pipeline and appropriate Param Map for Cross Validation \n",
    "    \n",
    "    \n",
    "    #Index labels, adding metadata to the label column.\n",
    "    # Fit on whole dataset to include all labels in index.\n",
    "    labelIndexer = StringIndexer(inputCol=\"label\", outputCol=\"indexedLabel\").fit(data)\n",
    "\n",
    "    # Automatically identify categorical features, and index them.\n",
    "    # Set maxCategories so features with > 4 distinct values are treated as continuous.\n",
    "    featureIndexer =\\\n",
    "        VectorIndexer(inputCol=\"features\", outputCol=\"indexedFeatures\", maxCategories=4).fit(data)\n",
    "\n",
    "    # Train a RandomForest model.\n",
    "    rf = RandomForestClassifier(labelCol=\"indexedLabel\", featuresCol=\"indexedFeatures\", numTrees=10)\n",
    "\n",
    "    # Convert indexed labels back to original labels.\n",
    "    labelConverter = IndexToString(inputCol=\"prediction\", outputCol=\"predictedLabel\",\n",
    "                                   labels=labelIndexer.labels)\n",
    "    \n",
    "    paramMap = ParamGridBuilder() \\\n",
    "        .addGrid(rf.numTrees, [5, 10, 15, 20]) \\\n",
    "        .build()\n",
    "    \n",
    "    return (Pipeline(stages=[labelIndexer, featureIndexer, rf, labelConverter]), paramMap)"
   ]
  },
  {
   "cell_type": "code",
   "execution_count": 4,
   "metadata": {},
   "outputs": [],
   "source": [
    "def get_model(pipeline: pyspark.ml.Pipeline, \n",
    "              paramGrid, evaluator, \n",
    "              n_folds: int, \n",
    "              dataset: pyspark.sql.DataFrame, \n",
    "              model_path):\n",
    "    # Creates a cross validation evaluator according to defined pipeline and param maps.\n",
    "    # Finds the best model according to the cross validation results\n",
    "    # Persists the model to the given model path\n",
    "    model = CrossValidator(estimator=pipeline,\n",
    "                           estimatorParamMaps=paramGrid,\n",
    "                           evaluator=evaluator,\n",
    "                           numFolds=n_folds)\n",
    "    cv_model = model.fit(dataset)\n",
    "    model = cv_model.bestModel\n",
    "    evaluation = list(zip(cv_model.avgMetrics, paramGrid))\n",
    "    model.write().overwrite().save(model_path)\n",
    "    return model, evaluation"
   ]
  },
  {
   "cell_type": "code",
   "execution_count": 5,
   "metadata": {},
   "outputs": [],
   "source": [
    "def training(training_data_path: str, model_save_path: str):\n",
    "    # Given training data path and model path\n",
    "    # Produces and persists an ML Model based on training data and defined configuration\n",
    "    \n",
    "    # Load training dataset\n",
    "    training_df = spark.read.parquet(TRAINING_DATASET_PATH)\n",
    "    \n",
    "    # Get pipeline configuration\n",
    "    pipeline, paramMap = get_pipeline(training_df)\n",
    "    evaluator = MulticlassClassificationEvaluator(\n",
    "        labelCol=\"indexedLabel\", predictionCol=\"prediction\", metricName=\"accuracy\")\n",
    "    num_folds = 2\n",
    "    \n",
    "    # Create and persist ML Model based on training data and pipeline configuration\n",
    "    model, evaluations = get_model(pipeline=pipeline,\n",
    "                                   paramGrid=paramMap,\n",
    "                                   evaluator=evaluator,\n",
    "                                   n_folds=num_folds,\n",
    "                                   dataset=training_df,\n",
    "                                   model_path=os.path.join(BASE_PATH, 'model'))\n",
    "    return model, evaluations"
   ]
  },
  {
   "cell_type": "code",
   "execution_count": 7,
   "metadata": {},
   "outputs": [
    {
     "name": "stdout",
     "output_type": "stream",
     "text": [
      "Best Model: \n",
      "Random Forest model with 15 trees.\n",
      "Saved to /Users/orz/projects/iguazio/model_example/model\n",
      "\n",
      "Cross Validated models and average results:\n",
      "Model: Random Forest model with 5 trees\t\tEvaluation: 0.9777777777777779\n",
      "Model: Random Forest model with 10 trees\t\tEvaluation: 0.9777777777777779\n",
      "Model: Random Forest model with 15 trees\t\tEvaluation: 0.9888888888888889\n",
      "Model: Random Forest model with 20 trees\t\tEvaluation: 0.9888888888888889\n"
     ]
    }
   ],
   "source": [
    "model, evaluations = training(training_data_path=TRAINING_DATASET_PATH,\n",
    "                              model_save_path=MODEL_PATH)\n",
    "\n",
    "rf = model.stages[2]\n",
    "print(f'Best Model: \\n'\\\n",
    "      f'Random Forest model with {rf.getNumTrees} trees.\\n'\\\n",
    "      f'Saved to {MODEL_PATH}\\n\\n'\\\n",
    "      'Cross Validated models and average results:')\n",
    "\n",
    "for evaluation, params in evaluations:\n",
    "    print(f'Model: Random Forest model with {list(params.values())[0]} trees\\t\\tEvaluation: {evaluation}')\n"
   ]
  }
 ],
 "metadata": {
  "kernelspec": {
   "display_name": "Python 3",
   "language": "python",
   "name": "python3"
  },
  "language_info": {
   "codemirror_mode": {
    "name": "ipython",
    "version": 3
   },
   "file_extension": ".py",
   "mimetype": "text/x-python",
   "name": "python",
   "nbconvert_exporter": "python",
   "pygments_lexer": "ipython3",
   "version": "3.6.3"
  }
 },
 "nbformat": 4,
 "nbformat_minor": 2
}
