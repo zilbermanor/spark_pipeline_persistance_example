{
 "cells": [
  {
   "cell_type": "code",
   "execution_count": 1,
   "metadata": {},
   "outputs": [],
   "source": [
    "import pyspark\n",
    "from pyspark.sql import SparkSession\n",
    "\n",
    "import os"
   ]
  },
  {
   "cell_type": "code",
   "execution_count": 2,
   "metadata": {},
   "outputs": [],
   "source": [
    "# Create Spark Session\n",
    "spark = SparkSession.builder.appName(\"Prepare Datasets\").getOrCreate()\n",
    "\n",
    "# Define data path\n",
    "BASE_PATH = os.getcwd()\n",
    "DATA_PATH = os.path.join(BASE_PATH, 'data')\n",
    "\n",
    "# Load original dataset\n",
    "data = spark.read.format(\"libsvm\").load(os.path.join(DATA_PATH, 'data.txt'))"
   ]
  },
  {
   "cell_type": "code",
   "execution_count": null,
   "metadata": {},
   "outputs": [],
   "source": [
    "def split_dataset_to_train_test(dataset: pyspark.sql.DataFrame, path: str, training: float=0.7, is_json: bool = True):\n",
    "    # Split dataset to train and test parts by given training ratio\n",
    "    # Save datasets to given path\n",
    "    (trainingData, testData) = data.randomSplit([training, 1-training])\n",
    "    if is_json:\n",
    "        trainingData.write.mode('overwrite').json(f'{path}/training_json')\n",
    "        testData.write.mode('overwrite').json(f'{path}/test_json')\n",
    "    else:\n",
    "        trainingData.write.mode('overwrite').parquet(f'{path}/training')\n",
    "        testData.write.mode('overwrite').parquet(f'{path}/test')\n",
    "    return trainingData, testData\n",
    "\n",
    "# Prepare datasets in parquet\n",
    "train, test = split_dataset_to_train_test(dataset=data,\n",
    "                                          path=DATA_PATH,\n",
    "                                          training=0.7)\n",
    "print(f'Saved training dataset of {train.count()} to {DATA_PATH}/training\\n' \\\n",
    "      f'Saved test dataset of {test.count()} samples to {DATA_PATH}/test')"
   ]
  }
 ],
 "metadata": {
  "kernelspec": {
   "display_name": "Python 3",
   "language": "python",
   "name": "python3"
  },
  "language_info": {
   "codemirror_mode": {
    "name": "ipython",
    "version": 3
   },
   "file_extension": ".py",
   "mimetype": "text/x-python",
   "name": "python",
   "nbconvert_exporter": "python",
   "pygments_lexer": "ipython3",
   "version": "3.6.3"
  }
 },
 "nbformat": 4,
 "nbformat_minor": 2
}
