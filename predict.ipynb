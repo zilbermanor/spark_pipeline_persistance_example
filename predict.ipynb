{
 "cells": [
  {
   "cell_type": "code",
   "execution_count": 1,
   "metadata": {},
   "outputs": [],
   "source": [
    "import pyspark\n",
    "from pyspark.sql import SparkSession\n",
    "from pyspark.ml import Pipeline, PipelineModel\n",
    "from pyspark.ml.evaluation import MulticlassClassificationEvaluator\n",
    "\n",
    "import os"
   ]
  },
  {
   "cell_type": "code",
   "execution_count": 2,
   "metadata": {},
   "outputs": [],
   "source": [
    "# Create Spark Session\n",
    "spark = SparkSession.builder.appName(\"Predict\").getOrCreate()\n",
    "\n",
    "# Define data path\n",
    "BASE_PATH = os.getcwd()\n",
    "DATA_PATH = os.path.join(BASE_PATH, 'data')\n",
    "TEST_DATASET_PATH = os.path.join(DATA_PATH, 'training')\n",
    "MODEL_PATH = os.path.join(BASE_PATH, 'model')"
   ]
  },
  {
   "cell_type": "code",
   "execution_count": 3,
   "metadata": {},
   "outputs": [],
   "source": [
    "def predict(sample, model_load_path: str):\n",
    "    # Loads the model from model path\n",
    "    # Applies Feature Transformations and Prediction on the samples via the model\n",
    "    model = PipelineModel.load(MODEL_PATH)\n",
    "    prediction = model.transform(sample)\n",
    "    return prediction"
   ]
  },
  {
   "cell_type": "code",
   "execution_count": 4,
   "metadata": {},
   "outputs": [
    {
     "name": "stdout",
     "output_type": "stream",
     "text": [
      "Prediction accuracy: 1.0\n",
      "+-----+--------------------+------------+--------------------+-------------+-----------+----------+--------------+\n",
      "|label|            features|indexedLabel|     indexedFeatures|rawPrediction|probability|prediction|predictedLabel|\n",
      "+-----+--------------------+------------+--------------------+-------------+-----------+----------+--------------+\n",
      "|  0.0|(692,[122,123,124...|         1.0|(692,[122,123,124...|   [0.0,15.0]|  [0.0,1.0]|       1.0|           0.0|\n",
      "|  0.0|(692,[127,128,129...|         1.0|(692,[127,128,129...|   [0.0,15.0]|  [0.0,1.0]|       1.0|           0.0|\n",
      "|  0.0|(692,[153,154,155...|         1.0|(692,[153,154,155...|   [0.0,15.0]|  [0.0,1.0]|       1.0|           0.0|\n",
      "|  1.0|(692,[151,152,153...|         0.0|(692,[151,152,153...|   [15.0,0.0]|  [1.0,0.0]|       0.0|           1.0|\n",
      "|  1.0|(692,[155,156,157...|         0.0|(692,[155,156,157...|   [15.0,0.0]|  [1.0,0.0]|       0.0|           1.0|\n",
      "+-----+--------------------+------------+--------------------+-------------+-----------+----------+--------------+\n",
      "\n"
     ]
    }
   ],
   "source": [
    "# Load test dataset\n",
    "test_data = spark.read.parquet(TEST_DATASET_PATH)\n",
    "\n",
    "# Extract batch samples\n",
    "sample = test_data.sample(True, 0.1)\n",
    "\n",
    "# Load model and provide predictions\n",
    "predictions = predict(sample, MODEL_PATH)\n",
    "\n",
    "# Evaluate Predictions (Given labels from test data) and provide accuracy\n",
    "evaluator = MulticlassClassificationEvaluator(\n",
    "        labelCol=\"indexedLabel\", predictionCol=\"prediction\", metricName=\"accuracy\")\n",
    "accuracy = evaluator.evaluate(predictions)\n",
    "\n",
    "print(f'Prediction accuracy: {accuracy}')\n",
    "predictions.show()"
   ]
  }
 ],
 "metadata": {
  "kernelspec": {
   "display_name": "Python 3",
   "language": "python",
   "name": "python3"
  },
  "language_info": {
   "codemirror_mode": {
    "name": "ipython",
    "version": 3
   },
   "file_extension": ".py",
   "mimetype": "text/x-python",
   "name": "python",
   "nbconvert_exporter": "python",
   "pygments_lexer": "ipython3",
   "version": "3.6.3"
  }
 },
 "nbformat": 4,
 "nbformat_minor": 2
}
