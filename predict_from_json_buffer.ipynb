{
 "cells": [
  {
   "cell_type": "code",
   "execution_count": 1,
   "metadata": {},
   "outputs": [],
   "source": [
    "import pyspark\n",
    "from pyspark.sql.types import *\n",
    "from pyspark.sql import SparkSession\n",
    "from pyspark.ml import Pipeline, PipelineModel\n",
    "from pyspark.ml.evaluation import MulticlassClassificationEvaluator\n",
    "from pyspark.ml.linalg import VectorUDT\n",
    "\n",
    "import os"
   ]
  },
  {
   "cell_type": "code",
   "execution_count": 2,
   "metadata": {},
   "outputs": [],
   "source": [
    "# Create Spark Session\n",
    "spark = SparkSession.builder.appName(\"Predict\").getOrCreate()\n",
    "\n",
    "# Define data path\n",
    "BASE_PATH = os.getcwd()\n",
    "DATA_PATH = os.path.join(BASE_PATH, 'data')\n",
    "TEST_DATASET_PATH = os.path.join(DATA_PATH, 'test_json')\n",
    "MODEL_PATH = os.path.join(BASE_PATH, 'model')"
   ]
  },
  {
   "cell_type": "code",
   "execution_count": 3,
   "metadata": {},
   "outputs": [],
   "source": [
    "def get_sample_from_json_buffer(json_file: str, num_samples_to_return: int=1):\n",
    "    schema = StructType().add(\"label\", FloatType()).add(\"features\", VectorUDT())\n",
    "    json_file = spark.read.schema(schema).json(json_file)\n",
    "    sample = json_file.sample(True, 1.0).limit(num_samples_to_return)\n",
    "    return sample"
   ]
  },
  {
   "cell_type": "code",
   "execution_count": 4,
   "metadata": {},
   "outputs": [],
   "source": [
    "def predict(sample, model_load_path: str):\n",
    "    # Loads the model from model path\n",
    "    # Applies Feature Transformations and Prediction on the samples via the model\n",
    "    model = PipelineModel.load(MODEL_PATH)\n",
    "    prediction = model.transform(sample)\n",
    "    return prediction"
   ]
  },
  {
   "cell_type": "code",
   "execution_count": 5,
   "metadata": {},
   "outputs": [
    {
     "name": "stdout",
     "output_type": "stream",
     "text": [
      "root\n",
      " |-- label: float (nullable = true)\n",
      " |-- features: vector (nullable = true)\n",
      "\n",
      "Prediction accuracy: 1.0\n",
      "+-----+--------------------+------------+--------------------+-------------+-----------+----------+--------------+\n",
      "|label|            features|indexedLabel|     indexedFeatures|rawPrediction|probability|prediction|predictedLabel|\n",
      "+-----+--------------------+------------+--------------------+-------------+-----------+----------+--------------+\n",
      "|  0.0|(692,[98,99,100,1...|         1.0|(692,[98,99,100,1...|   [0.0,15.0]|  [0.0,1.0]|       1.0|           0.0|\n",
      "+-----+--------------------+------------+--------------------+-------------+-----------+----------+--------------+\n",
      "\n"
     ]
    }
   ],
   "source": [
    "# Load test dataset\n",
    "available_json_files = [f for f in os.listdir(TEST_DATASET_PATH) if f.endswith('.json')]\n",
    "file_path = os.path.join(TEST_DATASET_PATH, available_json_files[0])\n",
    "test_data = get_sample_from_json_buffer(file_path, 1)\n",
    "test_data.printSchema()\n",
    "\n",
    "# Load model and provide predictions\n",
    "predictions = predict(test_data, MODEL_PATH)\n",
    "\n",
    "# Evaluate Predictions (Given labels from test data) and provide accuracy\n",
    "evaluator = MulticlassClassificationEvaluator(\n",
    "        labelCol=\"indexedLabel\", predictionCol=\"prediction\", metricName=\"accuracy\")\n",
    "accuracy = evaluator.evaluate(predictions)\n",
    "\n",
    "print(f'Prediction accuracy: {accuracy}')\n",
    "predictions.show()"
   ]
  },
  {
   "cell_type": "code",
   "execution_count": null,
   "metadata": {},
   "outputs": [],
   "source": []
  }
 ],
 "metadata": {
  "kernelspec": {
   "display_name": "Python 3",
   "language": "python",
   "name": "python3"
  },
  "language_info": {
   "codemirror_mode": {
    "name": "ipython",
    "version": 3
   },
   "file_extension": ".py",
   "mimetype": "text/x-python",
   "name": "python",
   "nbconvert_exporter": "python",
   "pygments_lexer": "ipython3",
   "version": "3.6.3"
  }
 },
 "nbformat": 4,
 "nbformat_minor": 2
}
